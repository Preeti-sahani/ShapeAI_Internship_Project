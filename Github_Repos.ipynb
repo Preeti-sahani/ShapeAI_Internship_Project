{
  "nbformat": 4,
  "nbformat_minor": 0,
  "metadata": {
    "colab": {
      "name": "Github_Repos.ipynb",
      "provenance": [],
      "authorship_tag": "ABX9TyNjTOOaN0aXsgHUCTYl6CH5",
      "include_colab_link": true
    },
    "kernelspec": {
      "name": "python3",
      "display_name": "Python 3"
    },
    "language_info": {
      "name": "python"
    }
  },
  "cells": [
    {
      "cell_type": "markdown",
      "metadata": {
        "id": "view-in-github",
        "colab_type": "text"
      },
      "source": [
        "<a href=\"https://colab.research.google.com/github/Preeti-sahani/ShapeAI_Project/blob/main/Github_Repos.ipynb\" target=\"_parent\"><img src=\"https://colab.research.google.com/assets/colab-badge.svg\" alt=\"Open In Colab\"/></a>"
      ]
    },
    {
      "cell_type": "markdown",
      "metadata": {
        "id": "wQjZ43vaXcfL"
      },
      "source": [
        "\n",
        "\n",
        "<h1 style=\"font-size:30px;color:black;text-align:center; text-decoration:underline\">                   An analysis of the most popular repositories on Github</h1>\n",
        "<img src=\"https://kanbanize.com/blog/wp-content/uploads/2014/11/GitHub.jpg\" alt=\"github\" width=50% height=50%>\n",
        "<hr>\n",
        "_Areas of focus include: Type of repo,Metrics of popularity, Languages used_\n",
        "\n",
        "#### Objective of this analysis:\n",
        "\n",
        "Learning how to read and analyse a dataset.\n",
        "\n",
        "Understanding the dominant languages used for popular GitHub projects and mapping them.\n",
        "\n",
        "Extracting the different domains of work done in these projects via the repositories tags.\n",
        "\n",
        "Deriving conclusions over the popularity of respective domains and languages,"
      ]
    },
    {
      "cell_type": "markdown",
      "metadata": {
        "id": "XBSLQ5k_ZWOP"
      },
      "source": [
        "#**1. Imporing Libraries**"
      ]
    },
    {
      "cell_type": "code",
      "metadata": {
        "id": "NQEqWFoLWq9j"
      },
      "source": [
        "import numpy as np \n",
        "import pandas as pd \n",
        "import plotly.graph_objects as go\n",
        "import plotly.express as px\n",
        "import seaborn as sns\n",
        "import matplotlib.pyplot as plt\n",
        "# from ggplot import *\n",
        "# plt.style.use('default')"
      ],
      "execution_count": 3,
      "outputs": []
    },
    {
      "cell_type": "markdown",
      "metadata": {
        "id": "SWe1DijGaWSA"
      },
      "source": [
        "#**Importing Data**"
      ]
    },
    {
      "cell_type": "code",
      "metadata": {
        "colab": {
          "base_uri": "https://localhost:8080/",
          "height": 490
        },
        "id": "25Qx4-bdZmP2",
        "outputId": "8edf2d48-058c-47ae-d04f-c1ff7d8ec05c"
      },
      "source": [
        "Github_df = pd.read_csv(\"/content/Github_dat.zip\")\n",
        "Github_df.head()"
      ],
      "execution_count": 5,
      "outputs": [
        {
          "output_type": "execute_result",
          "data": {
            "text/html": [
              "<div>\n",
              "<style scoped>\n",
              "    .dataframe tbody tr th:only-of-type {\n",
              "        vertical-align: middle;\n",
              "    }\n",
              "\n",
              "    .dataframe tbody tr th {\n",
              "        vertical-align: top;\n",
              "    }\n",
              "\n",
              "    .dataframe thead th {\n",
              "        text-align: right;\n",
              "    }\n",
              "</style>\n",
              "<table border=\"1\" class=\"dataframe\">\n",
              "  <thead>\n",
              "    <tr style=\"text-align: right;\">\n",
              "      <th></th>\n",
              "      <th>Unnamed: 0</th>\n",
              "      <th>Unnamed: 0.1</th>\n",
              "      <th>topic</th>\n",
              "      <th>name</th>\n",
              "      <th>user</th>\n",
              "      <th>star</th>\n",
              "      <th>fork</th>\n",
              "      <th>watch</th>\n",
              "      <th>issue</th>\n",
              "      <th>pull_requests</th>\n",
              "      <th>projects</th>\n",
              "      <th>topic_tag</th>\n",
              "      <th>discription_text</th>\n",
              "      <th>discription_url</th>\n",
              "      <th>commits</th>\n",
              "      <th>branches</th>\n",
              "      <th>packages</th>\n",
              "      <th>releases</th>\n",
              "      <th>contributers</th>\n",
              "      <th>License</th>\n",
              "      <th>url</th>\n",
              "    </tr>\n",
              "  </thead>\n",
              "  <tbody>\n",
              "    <tr>\n",
              "      <th>0</th>\n",
              "      <td>0</td>\n",
              "      <td>0</td>\n",
              "      <td>Data-Science</td>\n",
              "      <td>keras</td>\n",
              "      <td>keras-team</td>\n",
              "      <td>47.9k</td>\n",
              "      <td>18.1k</td>\n",
              "      <td>2.1k</td>\n",
              "      <td>2,940</td>\n",
              "      <td>87</td>\n",
              "      <td>1.0</td>\n",
              "      <td>['deep-learning', 'tensorflow', 'neural-networ...</td>\n",
              "      <td>Deep Learning for humans</td>\n",
              "      <td>http://keras.io/</td>\n",
              "      <td>5,342</td>\n",
              "      <td>6</td>\n",
              "      <td>0</td>\n",
              "      <td>0</td>\n",
              "      <td>49</td>\n",
              "      <td>View license</td>\n",
              "      <td>https://github.com/keras-team/keras</td>\n",
              "    </tr>\n",
              "    <tr>\n",
              "      <th>1</th>\n",
              "      <td>1</td>\n",
              "      <td>1</td>\n",
              "      <td>Data-Science</td>\n",
              "      <td>scikit-learn</td>\n",
              "      <td>scikit-learn</td>\n",
              "      <td>40.3k</td>\n",
              "      <td>19.6k</td>\n",
              "      <td>2.2k</td>\n",
              "      <td>1,505</td>\n",
              "      <td>764</td>\n",
              "      <td>17.0</td>\n",
              "      <td>['machine-learning', 'python', 'statistics', '...</td>\n",
              "      <td>scikit-learn: machine learning in Python</td>\n",
              "      <td>https://scikit-learn.org</td>\n",
              "      <td>25,405</td>\n",
              "      <td>21</td>\n",
              "      <td>0</td>\n",
              "      <td>0</td>\n",
              "      <td>108</td>\n",
              "      <td>View license</td>\n",
              "      <td>https://github.com/scikit-learn/scikit-learn</td>\n",
              "    </tr>\n",
              "    <tr>\n",
              "      <th>2</th>\n",
              "      <td>2</td>\n",
              "      <td>2</td>\n",
              "      <td>Data-Science</td>\n",
              "      <td>PythonDataScienceHandbook</td>\n",
              "      <td>jakevdp</td>\n",
              "      <td>23.1k</td>\n",
              "      <td>9.9k</td>\n",
              "      <td>1.5k</td>\n",
              "      <td>65</td>\n",
              "      <td>67</td>\n",
              "      <td>0.0</td>\n",
              "      <td>['scikit-learn', 'numpy', 'python', 'jupyter-n...</td>\n",
              "      <td>Python Data Science Handbook: full text in Jup...</td>\n",
              "      <td>http://jakevdp.github.io/PythonDataSc…</td>\n",
              "      <td>234</td>\n",
              "      <td>5</td>\n",
              "      <td>0</td>\n",
              "      <td>0</td>\n",
              "      <td>0</td>\n",
              "      <td>View license</td>\n",
              "      <td>https://github.com/jakevdp/PythonDataScienceHa...</td>\n",
              "    </tr>\n",
              "    <tr>\n",
              "      <th>3</th>\n",
              "      <td>3</td>\n",
              "      <td>3</td>\n",
              "      <td>Data-Science</td>\n",
              "      <td>Probabilistic-Programming-and-Bayesian-Methods...</td>\n",
              "      <td>CamDavidsonPilon</td>\n",
              "      <td>21k</td>\n",
              "      <td>6.6k</td>\n",
              "      <td>1.4k</td>\n",
              "      <td>127</td>\n",
              "      <td>38</td>\n",
              "      <td>0.0</td>\n",
              "      <td>['bayesian-methods', 'pymc', 'mathematical-ana...</td>\n",
              "      <td>aka \"Bayesian Methods for Hackers\": An introdu...</td>\n",
              "      <td>http://camdavidsonpilon.github.io/Pro…</td>\n",
              "      <td>1,079</td>\n",
              "      <td>3</td>\n",
              "      <td>0</td>\n",
              "      <td>0</td>\n",
              "      <td>0</td>\n",
              "      <td>MIT</td>\n",
              "      <td>https://github.com/CamDavidsonPilon/Probabilis...</td>\n",
              "    </tr>\n",
              "    <tr>\n",
              "      <th>4</th>\n",
              "      <td>4</td>\n",
              "      <td>4</td>\n",
              "      <td>Data-Science</td>\n",
              "      <td>Data-Science--Cheat-Sheet</td>\n",
              "      <td>abhat222</td>\n",
              "      <td>18.4k</td>\n",
              "      <td>8.2k</td>\n",
              "      <td>1.5k</td>\n",
              "      <td>7</td>\n",
              "      <td>0</td>\n",
              "      <td>0.0</td>\n",
              "      <td>[]</td>\n",
              "      <td>Cheat Sheets</td>\n",
              "      <td>NaN</td>\n",
              "      <td>363</td>\n",
              "      <td>3</td>\n",
              "      <td>0</td>\n",
              "      <td>0</td>\n",
              "      <td>0</td>\n",
              "      <td>Fetching contributors</td>\n",
              "      <td>https://github.com/abhat222/Data-Science--Chea...</td>\n",
              "    </tr>\n",
              "  </tbody>\n",
              "</table>\n",
              "</div>"
            ],
            "text/plain": [
              "   Unnamed: 0  ...                                                url\n",
              "0           0  ...                https://github.com/keras-team/keras\n",
              "1           1  ...       https://github.com/scikit-learn/scikit-learn\n",
              "2           2  ...  https://github.com/jakevdp/PythonDataScienceHa...\n",
              "3           3  ...  https://github.com/CamDavidsonPilon/Probabilis...\n",
              "4           4  ...  https://github.com/abhat222/Data-Science--Chea...\n",
              "\n",
              "[5 rows x 21 columns]"
            ]
          },
          "metadata": {},
          "execution_count": 5
        }
      ]
    },
    {
      "cell_type": "code",
      "metadata": {
        "colab": {
          "base_uri": "https://localhost:8080/"
        },
        "id": "Cx4z5pMBZt4x",
        "outputId": "6950b033-82dc-4825-ac27-79462d340cae"
      },
      "source": [
        "Github_df.shape"
      ],
      "execution_count": 7,
      "outputs": [
        {
          "output_type": "execute_result",
          "data": {
            "text/plain": [
              "(1500, 21)"
            ]
          },
          "metadata": {},
          "execution_count": 7
        }
      ]
    },
    {
      "cell_type": "code",
      "metadata": {
        "colab": {
          "base_uri": "https://localhost:8080/"
        },
        "id": "vuk45N5FaNi8",
        "outputId": "33254cfd-343b-4829-cbf2-3d3aa77cddcf"
      },
      "source": [
        "Github_df.info()"
      ],
      "execution_count": 8,
      "outputs": [
        {
          "output_type": "stream",
          "name": "stdout",
          "text": [
            "<class 'pandas.core.frame.DataFrame'>\n",
            "RangeIndex: 1500 entries, 0 to 1499\n",
            "Data columns (total 21 columns):\n",
            " #   Column            Non-Null Count  Dtype  \n",
            "---  ------            --------------  -----  \n",
            " 0   Unnamed: 0        1500 non-null   int64  \n",
            " 1   Unnamed: 0.1      1500 non-null   int64  \n",
            " 2   topic             1500 non-null   object \n",
            " 3   name              1500 non-null   object \n",
            " 4   user              1500 non-null   object \n",
            " 5   star              1500 non-null   object \n",
            " 6   fork              1500 non-null   object \n",
            " 7   watch             1500 non-null   object \n",
            " 8   issue             1500 non-null   object \n",
            " 9   pull_requests     1500 non-null   object \n",
            " 10  projects          1313 non-null   float64\n",
            " 11  topic_tag         1500 non-null   object \n",
            " 12  discription_text  1480 non-null   object \n",
            " 13  discription_url   669 non-null    object \n",
            " 14  commits           1500 non-null   object \n",
            " 15  branches          1500 non-null   object \n",
            " 16  packages          1500 non-null   int64  \n",
            " 17  releases          1500 non-null   int64  \n",
            " 18  contributers      1500 non-null   object \n",
            " 19  License           1500 non-null   object \n",
            " 20  url               1500 non-null   object \n",
            "dtypes: float64(1), int64(4), object(16)\n",
            "memory usage: 246.2+ KB\n"
          ]
        }
      ]
    },
    {
      "cell_type": "markdown",
      "metadata": {
        "id": "yFdPlDQKajtT"
      },
      "source": [
        "# 1. Popular Repositories\n",
        "Determining what constitutes a popular repository by extracting the range of maximum and minimum starred repositories"
      ]
    },
    {
      "cell_type": "code",
      "metadata": {
        "colab": {
          "base_uri": "https://localhost:8080/"
        },
        "id": "0a87F-_wafWY",
        "outputId": "663ada88-4a54-4961-8ce9-c2da896b6610"
      },
      "source": [
        "Github_df_max = Github_df['star'].str.contains('k').all()\n",
        "Github_df_max"
      ],
      "execution_count": 9,
      "outputs": [
        {
          "output_type": "execute_result",
          "data": {
            "text/plain": [
              "False"
            ]
          },
          "metadata": {},
          "execution_count": 9
        }
      ]
    },
    {
      "cell_type": "code",
      "metadata": {
        "id": "2-MVqnytapE1"
      },
      "source": [
        "Github_df['star'] = Github_df['star'].str.replace('k','').astype(float)"
      ],
      "execution_count": 10,
      "outputs": []
    },
    {
      "cell_type": "markdown",
      "metadata": {
        "id": "qLm2i78Qb45i"
      },
      "source": [
        "1.1 The top 5 repositories in the dataset [based on \"Number of Stars\"]"
      ]
    },
    {
      "cell_type": "code",
      "metadata": {
        "colab": {
          "base_uri": "https://localhost:8080/",
          "height": 490
        },
        "id": "vLyJTYTIb01R",
        "outputId": "0510a9c9-6bd7-4a13-ab4e-56b8e87eda6b"
      },
      "source": [
        "Github_df.head()"
      ],
      "execution_count": 11,
      "outputs": [
        {
          "output_type": "execute_result",
          "data": {
            "text/html": [
              "<div>\n",
              "<style scoped>\n",
              "    .dataframe tbody tr th:only-of-type {\n",
              "        vertical-align: middle;\n",
              "    }\n",
              "\n",
              "    .dataframe tbody tr th {\n",
              "        vertical-align: top;\n",
              "    }\n",
              "\n",
              "    .dataframe thead th {\n",
              "        text-align: right;\n",
              "    }\n",
              "</style>\n",
              "<table border=\"1\" class=\"dataframe\">\n",
              "  <thead>\n",
              "    <tr style=\"text-align: right;\">\n",
              "      <th></th>\n",
              "      <th>Unnamed: 0</th>\n",
              "      <th>Unnamed: 0.1</th>\n",
              "      <th>topic</th>\n",
              "      <th>name</th>\n",
              "      <th>user</th>\n",
              "      <th>star</th>\n",
              "      <th>fork</th>\n",
              "      <th>watch</th>\n",
              "      <th>issue</th>\n",
              "      <th>pull_requests</th>\n",
              "      <th>projects</th>\n",
              "      <th>topic_tag</th>\n",
              "      <th>discription_text</th>\n",
              "      <th>discription_url</th>\n",
              "      <th>commits</th>\n",
              "      <th>branches</th>\n",
              "      <th>packages</th>\n",
              "      <th>releases</th>\n",
              "      <th>contributers</th>\n",
              "      <th>License</th>\n",
              "      <th>url</th>\n",
              "    </tr>\n",
              "  </thead>\n",
              "  <tbody>\n",
              "    <tr>\n",
              "      <th>0</th>\n",
              "      <td>0</td>\n",
              "      <td>0</td>\n",
              "      <td>Data-Science</td>\n",
              "      <td>keras</td>\n",
              "      <td>keras-team</td>\n",
              "      <td>47.9</td>\n",
              "      <td>18.1k</td>\n",
              "      <td>2.1k</td>\n",
              "      <td>2,940</td>\n",
              "      <td>87</td>\n",
              "      <td>1.0</td>\n",
              "      <td>['deep-learning', 'tensorflow', 'neural-networ...</td>\n",
              "      <td>Deep Learning for humans</td>\n",
              "      <td>http://keras.io/</td>\n",
              "      <td>5,342</td>\n",
              "      <td>6</td>\n",
              "      <td>0</td>\n",
              "      <td>0</td>\n",
              "      <td>49</td>\n",
              "      <td>View license</td>\n",
              "      <td>https://github.com/keras-team/keras</td>\n",
              "    </tr>\n",
              "    <tr>\n",
              "      <th>1</th>\n",
              "      <td>1</td>\n",
              "      <td>1</td>\n",
              "      <td>Data-Science</td>\n",
              "      <td>scikit-learn</td>\n",
              "      <td>scikit-learn</td>\n",
              "      <td>40.3</td>\n",
              "      <td>19.6k</td>\n",
              "      <td>2.2k</td>\n",
              "      <td>1,505</td>\n",
              "      <td>764</td>\n",
              "      <td>17.0</td>\n",
              "      <td>['machine-learning', 'python', 'statistics', '...</td>\n",
              "      <td>scikit-learn: machine learning in Python</td>\n",
              "      <td>https://scikit-learn.org</td>\n",
              "      <td>25,405</td>\n",
              "      <td>21</td>\n",
              "      <td>0</td>\n",
              "      <td>0</td>\n",
              "      <td>108</td>\n",
              "      <td>View license</td>\n",
              "      <td>https://github.com/scikit-learn/scikit-learn</td>\n",
              "    </tr>\n",
              "    <tr>\n",
              "      <th>2</th>\n",
              "      <td>2</td>\n",
              "      <td>2</td>\n",
              "      <td>Data-Science</td>\n",
              "      <td>PythonDataScienceHandbook</td>\n",
              "      <td>jakevdp</td>\n",
              "      <td>23.1</td>\n",
              "      <td>9.9k</td>\n",
              "      <td>1.5k</td>\n",
              "      <td>65</td>\n",
              "      <td>67</td>\n",
              "      <td>0.0</td>\n",
              "      <td>['scikit-learn', 'numpy', 'python', 'jupyter-n...</td>\n",
              "      <td>Python Data Science Handbook: full text in Jup...</td>\n",
              "      <td>http://jakevdp.github.io/PythonDataSc…</td>\n",
              "      <td>234</td>\n",
              "      <td>5</td>\n",
              "      <td>0</td>\n",
              "      <td>0</td>\n",
              "      <td>0</td>\n",
              "      <td>View license</td>\n",
              "      <td>https://github.com/jakevdp/PythonDataScienceHa...</td>\n",
              "    </tr>\n",
              "    <tr>\n",
              "      <th>3</th>\n",
              "      <td>3</td>\n",
              "      <td>3</td>\n",
              "      <td>Data-Science</td>\n",
              "      <td>Probabilistic-Programming-and-Bayesian-Methods...</td>\n",
              "      <td>CamDavidsonPilon</td>\n",
              "      <td>21.0</td>\n",
              "      <td>6.6k</td>\n",
              "      <td>1.4k</td>\n",
              "      <td>127</td>\n",
              "      <td>38</td>\n",
              "      <td>0.0</td>\n",
              "      <td>['bayesian-methods', 'pymc', 'mathematical-ana...</td>\n",
              "      <td>aka \"Bayesian Methods for Hackers\": An introdu...</td>\n",
              "      <td>http://camdavidsonpilon.github.io/Pro…</td>\n",
              "      <td>1,079</td>\n",
              "      <td>3</td>\n",
              "      <td>0</td>\n",
              "      <td>0</td>\n",
              "      <td>0</td>\n",
              "      <td>MIT</td>\n",
              "      <td>https://github.com/CamDavidsonPilon/Probabilis...</td>\n",
              "    </tr>\n",
              "    <tr>\n",
              "      <th>4</th>\n",
              "      <td>4</td>\n",
              "      <td>4</td>\n",
              "      <td>Data-Science</td>\n",
              "      <td>Data-Science--Cheat-Sheet</td>\n",
              "      <td>abhat222</td>\n",
              "      <td>18.4</td>\n",
              "      <td>8.2k</td>\n",
              "      <td>1.5k</td>\n",
              "      <td>7</td>\n",
              "      <td>0</td>\n",
              "      <td>0.0</td>\n",
              "      <td>[]</td>\n",
              "      <td>Cheat Sheets</td>\n",
              "      <td>NaN</td>\n",
              "      <td>363</td>\n",
              "      <td>3</td>\n",
              "      <td>0</td>\n",
              "      <td>0</td>\n",
              "      <td>0</td>\n",
              "      <td>Fetching contributors</td>\n",
              "      <td>https://github.com/abhat222/Data-Science--Chea...</td>\n",
              "    </tr>\n",
              "  </tbody>\n",
              "</table>\n",
              "</div>"
            ],
            "text/plain": [
              "   Unnamed: 0  ...                                                url\n",
              "0           0  ...                https://github.com/keras-team/keras\n",
              "1           1  ...       https://github.com/scikit-learn/scikit-learn\n",
              "2           2  ...  https://github.com/jakevdp/PythonDataScienceHa...\n",
              "3           3  ...  https://github.com/CamDavidsonPilon/Probabilis...\n",
              "4           4  ...  https://github.com/abhat222/Data-Science--Chea...\n",
              "\n",
              "[5 rows x 21 columns]"
            ]
          },
          "metadata": {},
          "execution_count": 11
        }
      ]
    },
    {
      "cell_type": "code",
      "metadata": {
        "colab": {
          "base_uri": "https://localhost:8080/"
        },
        "id": "LaoaXomGb_ju",
        "outputId": "590f30ec-14a5-4766-95d3-4cb1530847e6"
      },
      "source": [
        "Github_df['star'].describe()"
      ],
      "execution_count": 12,
      "outputs": [
        {
          "output_type": "execute_result",
          "data": {
            "text/plain": [
              "count    1500.000000\n",
              "mean      125.963867\n",
              "std       236.871510\n",
              "min         1.000000\n",
              "25%         2.800000\n",
              "50%        13.100000\n",
              "75%       108.000000\n",
              "max       996.000000\n",
              "Name: star, dtype: float64"
            ]
          },
          "metadata": {},
          "execution_count": 12
        }
      ]
    },
    {
      "cell_type": "markdown",
      "metadata": {
        "id": "QpPLWzwFcWNX"
      },
      "source": [
        "\n",
        "Most popular repo- 290,000 stars\n",
        "Least popular repo- 6400 stars\n",
        "Average rating of repos- 13,000 stars"
      ]
    },
    {
      "cell_type": "code",
      "metadata": {
        "id": "54ZOWZfncRss"
      },
      "source": [
        ""
      ],
      "execution_count": null,
      "outputs": []
    }
  ]
}